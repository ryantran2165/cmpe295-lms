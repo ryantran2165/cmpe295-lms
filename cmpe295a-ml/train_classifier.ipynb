{
 "cells": [
  {
   "cell_type": "code",
   "execution_count": 129,
   "id": "0ffa99ea",
   "metadata": {},
   "outputs": [],
   "source": [
    "import torch\n",
    "from torch import nn\n",
    "from torch.utils.data import DataLoader, ConcatDataset, Dataset\n",
    "from torchvision import datasets\n",
    "from torchvision.transforms import Compose, ToTensor, Lambda\n",
    "from torchvision.transforms.functional import rotate, hflip\n",
    "import numpy as np\n",
    "import matplotlib.pyplot as plt\n",
    "import os\n",
    "import cv2\n",
    "import pandas as pd"
   ]
  },
  {
   "cell_type": "code",
   "execution_count": 130,
   "id": "1357000c",
   "metadata": {},
   "outputs": [],
   "source": [
    "class MathSymbolsDataset(Dataset):\n",
    "    def __init__(self, img_labels, transform=None, target_transform=None):\n",
    "        self.img_labels = img_labels\n",
    "        self.transform = transform\n",
    "        self.target_transform = target_transform\n",
    "\n",
    "    def __len__(self):\n",
    "        return len(self.img_labels)\n",
    "\n",
    "    def __getitem__(self, idx):\n",
    "        img_path = self.img_labels.iloc[idx, 0]\n",
    "\n",
    "        im = cv2.imread(img_path)\n",
    "\n",
    "        # Grayscale\n",
    "        im = cv2.cvtColor(im, cv2.COLOR_BGR2GRAY)\n",
    "\n",
    "        # Flip black and white\n",
    "        im = cv2.bitwise_not(im)\n",
    "\n",
    "        #     cnts = cv2.findContours(im, cv2.RETR_EXTERNAL, cv2.CHAIN_APPROX_SIMPLE)\n",
    "        #     cnts = cnts[0] if len(cnts) == 2 else cnts[1]\n",
    "        #     for c in cnts:\n",
    "        #         cv2.drawContours(im, [c], -1, (255,255,255), thickness=2)\n",
    "\n",
    "        # Make lines thicker\n",
    "        kernel = cv2.getStructuringElement(cv2.MORPH_RECT, (4, 4))\n",
    "        im = cv2.dilate(im, kernel, iterations=1)\n",
    "\n",
    "        # Resize to 20x20\n",
    "        im = cv2.resize(im, (20, 20))\n",
    "\n",
    "        # Add 4 pixel border for total size of 28x28\n",
    "        border = 4\n",
    "        im = cv2.copyMakeBorder(\n",
    "            im, border, border, border, border, cv2.BORDER_CONSTANT, value=(0, 0, 0)\n",
    "        )\n",
    "\n",
    "        # Normalize\n",
    "        im = im / 255\n",
    "\n",
    "        # Convert to tensor\n",
    "        image = torch.from_numpy(im.astype(\"float32\")).unsqueeze(0)\n",
    "\n",
    "        label = self.img_labels.iloc[idx, 1]\n",
    "        label = torch.tensor(label).type(torch.LongTensor)\n",
    "        if self.transform:\n",
    "            image = self.transform(image)\n",
    "        if self.target_transform:\n",
    "            label = self.target_transform(label)\n",
    "        return image, label"
   ]
  },
  {
   "cell_type": "code",
   "execution_count": 131,
   "id": "3bc9b784",
   "metadata": {},
   "outputs": [
    {
     "name": "stdout",
     "output_type": "stream",
     "text": [
      "Num math symbols: 7\n"
     ]
    },
    {
     "data": {
      "text/html": [
       "<div>\n",
       "<style scoped>\n",
       "    .dataframe tbody tr th:only-of-type {\n",
       "        vertical-align: middle;\n",
       "    }\n",
       "\n",
       "    .dataframe tbody tr th {\n",
       "        vertical-align: top;\n",
       "    }\n",
       "\n",
       "    .dataframe thead th {\n",
       "        text-align: right;\n",
       "    }\n",
       "</style>\n",
       "<table border=\"1\" class=\"dataframe\">\n",
       "  <thead>\n",
       "    <tr style=\"text-align: right;\">\n",
       "      <th></th>\n",
       "      <th>path</th>\n",
       "      <th>label</th>\n",
       "    </tr>\n",
       "  </thead>\n",
       "  <tbody>\n",
       "    <tr>\n",
       "      <th>0</th>\n",
       "      <td>data/math_symbols/-/-_100005.jpg</td>\n",
       "      <td>62</td>\n",
       "    </tr>\n",
       "    <tr>\n",
       "      <th>1</th>\n",
       "      <td>data/math_symbols/-/-_100007.jpg</td>\n",
       "      <td>62</td>\n",
       "    </tr>\n",
       "    <tr>\n",
       "      <th>2</th>\n",
       "      <td>data/math_symbols/-/-_100009.jpg</td>\n",
       "      <td>62</td>\n",
       "    </tr>\n",
       "    <tr>\n",
       "      <th>3</th>\n",
       "      <td>data/math_symbols/-/-_100015.jpg</td>\n",
       "      <td>62</td>\n",
       "    </tr>\n",
       "    <tr>\n",
       "      <th>4</th>\n",
       "      <td>data/math_symbols/-/-_100021.jpg</td>\n",
       "      <td>62</td>\n",
       "    </tr>\n",
       "    <tr>\n",
       "      <th>...</th>\n",
       "      <td>...</td>\n",
       "      <td>...</td>\n",
       "    </tr>\n",
       "    <tr>\n",
       "      <th>76393</th>\n",
       "      <td>data/math_symbols/times/times_95436.jpg</td>\n",
       "      <td>68</td>\n",
       "    </tr>\n",
       "    <tr>\n",
       "      <th>76394</th>\n",
       "      <td>data/math_symbols/times/times_95489.jpg</td>\n",
       "      <td>68</td>\n",
       "    </tr>\n",
       "    <tr>\n",
       "      <th>76395</th>\n",
       "      <td>data/math_symbols/times/times_9589.jpg</td>\n",
       "      <td>68</td>\n",
       "    </tr>\n",
       "    <tr>\n",
       "      <th>76396</th>\n",
       "      <td>data/math_symbols/times/times_9755.jpg</td>\n",
       "      <td>68</td>\n",
       "    </tr>\n",
       "    <tr>\n",
       "      <th>76397</th>\n",
       "      <td>data/math_symbols/times/times_9881.jpg</td>\n",
       "      <td>68</td>\n",
       "    </tr>\n",
       "  </tbody>\n",
       "</table>\n",
       "<p>76398 rows × 2 columns</p>\n",
       "</div>"
      ],
      "text/plain": [
       "                                          path  label\n",
       "0             data/math_symbols/-/-_100005.jpg     62\n",
       "1             data/math_symbols/-/-_100007.jpg     62\n",
       "2             data/math_symbols/-/-_100009.jpg     62\n",
       "3             data/math_symbols/-/-_100015.jpg     62\n",
       "4             data/math_symbols/-/-_100021.jpg     62\n",
       "...                                        ...    ...\n",
       "76393  data/math_symbols/times/times_95436.jpg     68\n",
       "76394  data/math_symbols/times/times_95489.jpg     68\n",
       "76395   data/math_symbols/times/times_9589.jpg     68\n",
       "76396   data/math_symbols/times/times_9755.jpg     68\n",
       "76397   data/math_symbols/times/times_9881.jpg     68\n",
       "\n",
       "[76398 rows x 2 columns]"
      ]
     },
     "metadata": {},
     "output_type": "display_data"
    },
    {
     "name": "stdout",
     "output_type": "stream",
     "text": [
      "<class 'pandas.core.frame.DataFrame'>\n",
      "RangeIndex: 76398 entries, 0 to 76397\n",
      "Data columns (total 2 columns):\n",
      " #   Column  Non-Null Count  Dtype \n",
      "---  ------  --------------  ----- \n",
      " 0   path    76398 non-null  object\n",
      " 1   label   76398 non-null  int32 \n",
      "dtypes: int32(1), object(1)\n",
      "memory usage: 895.4+ KB\n"
     ]
    },
    {
     "data": {
      "text/plain": [
       "None"
      ]
     },
     "metadata": {},
     "output_type": "display_data"
    },
    {
     "name": "stdout",
     "output_type": "stream",
     "text": [
      "Math symbols dataset: 76398 torch.Size([1, 28, 28])\n"
     ]
    }
   ],
   "source": [
    "# name = \"emnistbyclass\"\n",
    "# name = \"mnist\"\n",
    "# name = \"mathsymbols\"\n",
    "# name = \"mnist_mathsymbols\"\n",
    "name = \"emnistbyclass_mathsymbols\"\n",
    "\n",
    "# EMNIST dataset\n",
    "split = \"byclass\"\n",
    "# split = 'bymerge'\n",
    "# split = 'balanced'\n",
    "# split = 'letters'\n",
    "# split = 'digits'\n",
    "# split = \"mnist\"\n",
    "emnist_train_data = datasets.EMNIST(\n",
    "    root=\"data\",\n",
    "    split=split,\n",
    "    train=True,\n",
    "    download=True,\n",
    "    transform=Compose([lambda img: rotate(img, -90), lambda img: hflip(img), ToTensor()]),\n",
    "    target_transform=Lambda(lambda y: torch.tensor(y)),\n",
    ")\n",
    "emnist_test_data = datasets.EMNIST(\n",
    "    root=\"data\",\n",
    "    split=split,\n",
    "    train=False,\n",
    "    download=True,\n",
    "    transform=Compose([lambda img: rotate(img, -90), lambda img: hflip(img), ToTensor()]),\n",
    "    target_transform=Lambda(lambda y: torch.tensor(y)),\n",
    ")\n",
    "\n",
    "# Math Symbols dataset\n",
    "math_symbols_root = \"data/math_symbols\"\n",
    "# math_symbols = [\"-\", \"(\", \")\", \",\", \"[\", \"]\", \"+\", \"=\", \"forward_slash\", \"gt\", \"lt\", \"times\"]\n",
    "math_symbols = [\"-\", \"+\", \"=\", \"forward_slash\", \"gt\", \"lt\", \"times\"]\n",
    "print(\"Num math symbols:\", len(math_symbols))\n",
    "data = []\n",
    "for i, symbol in enumerate(math_symbols):\n",
    "    root = f\"{math_symbols_root}/{symbol}\"\n",
    "    files = os.listdir(root)\n",
    "    for file in files:\n",
    "        path = f\"{root}/{file}\"\n",
    "        label = i\n",
    "        data.append([path, label])\n",
    "data = np.array(data)\n",
    "img_labels = pd.DataFrame(columns=[\"path\", \"label\"])\n",
    "img_labels[\"path\"] = data[:, 0]\n",
    "img_labels[\"label\"] = data[:, 1].astype(int)\n",
    "if name == \"mnist_mathsymbols\":\n",
    "    img_labels[\"label\"] = img_labels[\"label\"] + 10\n",
    "elif \"mnist\" in name:\n",
    "    img_labels[\"label\"] = img_labels[\"label\"] + 62\n",
    "display(img_labels)\n",
    "display(img_labels.info())\n",
    "math_symbols_dataset = MathSymbolsDataset(img_labels)\n",
    "print(\"Math symbols dataset:\", len(math_symbols_dataset), math_symbols_dataset[0][0].size())\n",
    "\n",
    "math_symbols_train_size = int(0.8 * len(math_symbols_dataset))\n",
    "math_symbols_test_size = len(math_symbols_dataset) - math_symbols_train_size\n",
    "math_symbols_train_data, math_symbols_test_data = torch.utils.data.random_split(\n",
    "    math_symbols_dataset, [math_symbols_train_size, math_symbols_test_size]\n",
    ")"
   ]
  },
  {
   "cell_type": "code",
   "execution_count": 132,
   "id": "ed466f4b",
   "metadata": {},
   "outputs": [],
   "source": [
    "# total_samples = 0\n",
    "# for symbol in math_symbols:\n",
    "#     path = f'{math_symbols_root}/{symbol}'\n",
    "#     files = os.listdir(path)\n",
    "#     total_samples += len(files)\n",
    "#     idx = np.random.randint(0, len(files))\n",
    "#     file = f'{path}/{files[idx]}'\n",
    "\n",
    "#     im = cv2.imread(file)\n",
    "\n",
    "#     im = cv2.bitwise_not(im)\n",
    "#     im = cv2.cvtColor(im, cv2.COLOR_BGR2GRAY)\n",
    "\n",
    "# #     cnts = cv2.findContours(im, cv2.RETR_EXTERNAL, cv2.CHAIN_APPROX_SIMPLE)\n",
    "# #     cnts = cnts[0] if len(cnts) == 2 else cnts[1]\n",
    "# #     for c in cnts:\n",
    "# #         cv2.drawContours(im, [c], -1, (255,255,255), thickness=2)\n",
    "\n",
    "#     kernel = cv2.getStructuringElement(cv2.MORPH_RECT, (4,4))\n",
    "#     im = cv2.dilate(im, kernel, iterations=1)\n",
    "\n",
    "#     im = cv2.resize(im, (20, 20))\n",
    "#     border = 4\n",
    "#     im = cv2.copyMakeBorder(im, border, border, border, border, cv2.BORDER_CONSTANT, value=(0,0,0))\n",
    "#     print(im.shape)\n",
    "#     plt.imshow(im, cmap=\"gray\")\n",
    "#     print(file)\n",
    "\n",
    "# print('total samples:', total_samples)"
   ]
  },
  {
   "cell_type": "code",
   "execution_count": 133,
   "id": "14b1a0f5",
   "metadata": {},
   "outputs": [],
   "source": [
    "if \"mnist\" in name and \"symbols\" not in name:\n",
    "    train_data = emnist_train_data\n",
    "    test_data = emnist_test_data\n",
    "elif \"mnist\" not in name and \"symbols\" in name:\n",
    "    train_data = math_symbols_train_data\n",
    "    test_data = math_symbols_test_data\n",
    "else:\n",
    "    train_data = ConcatDataset([emnist_train_data, math_symbols_train_data])\n",
    "    test_data = ConcatDataset([emnist_test_data, math_symbols_test_data])"
   ]
  },
  {
   "cell_type": "code",
   "execution_count": 134,
   "id": "f0f9e79b",
   "metadata": {},
   "outputs": [
    {
     "name": "stdout",
     "output_type": "stream",
     "text": [
      "69\n",
      "['0', '1', '2', '3', '4', '5', '6', '7', '8', '9', 'A', 'B', 'C', 'D', 'E', 'F', 'G', 'H', 'I', 'J', 'K', 'L', 'M', 'N', 'O', 'P', 'Q', 'R', 'S', 'T', 'U', 'V', 'W', 'X', 'Y', 'Z', 'a', 'b', 'c', 'd', 'e', 'f', 'g', 'h', 'i', 'j', 'k', 'l', 'm', 'n', 'o', 'p', 'q', 'r', 's', 't', 'u', 'v', 'w', 'x', 'y', 'z', '-', '+', '=', 'forward_slash', 'gt', 'lt', 'times']\n"
     ]
    }
   ],
   "source": [
    "if name == \"mnist_mathsymbols\":\n",
    "    class_names = [str(num) for num in range(10)] + math_symbols\n",
    "elif \"mnist\" in name and \"symbols\" not in name:\n",
    "    class_names = (\n",
    "        [str(num) for num in range(10)]\n",
    "        + [chr(capital) for capital in range(ord(\"A\"), ord(\"Z\") + 1)]\n",
    "        + [chr(lower) for lower in range(ord(\"a\"), ord(\"z\") + 1)]\n",
    "    )\n",
    "elif \"mnist\" not in name and \"symbols\" in name:\n",
    "    class_names = math_symbols\n",
    "else:\n",
    "    class_names = (\n",
    "        [str(num) for num in range(10)]\n",
    "        + [chr(capital) for capital in range(ord(\"A\"), ord(\"Z\") + 1)]\n",
    "        + [chr(lower) for lower in range(ord(\"a\"), ord(\"z\") + 1)]\n",
    "        + math_symbols\n",
    "    )\n",
    "print(len(class_names))\n",
    "print(class_names)"
   ]
  },
  {
   "cell_type": "code",
   "execution_count": 135,
   "id": "3c399c81",
   "metadata": {},
   "outputs": [
    {
     "name": "stdout",
     "output_type": "stream",
     "text": [
      "Label: S\n"
     ]
    },
    {
     "data": {
      "image/png": "[encoded data removed]",
      "text/plain": [
       "<Figure size 640x480 with 1 Axes>"
      ]
     },
     "metadata": {},
     "output_type": "display_data"
    }
   ],
   "source": [
    "idx = np.random.randint(0, len(train_data))\n",
    "sample_img, sample_label = train_data[idx]\n",
    "plt.imshow(sample_img.reshape(28, 28), cmap=\"gray\")\n",
    "print(\"Label:\", class_names[sample_label])"
   ]
  },
  {
   "cell_type": "code",
   "execution_count": 136,
   "id": "e956f1d4",
   "metadata": {},
   "outputs": [
    {
     "name": "stdout",
     "output_type": "stream",
     "text": [
      "n_classes: 69\n"
     ]
    }
   ],
   "source": [
    "batch_size = 64\n",
    "\n",
    "train_dataloader = DataLoader(train_data, batch_size=batch_size, shuffle=True, num_workers=0)\n",
    "test_dataloader = DataLoader(test_data, batch_size=batch_size, shuffle=True, num_workers=0)\n",
    "\n",
    "# for X, y in test_dataloader:\n",
    "#     print(f\"Shape of X [N, C, H, W]: {X.shape}\")\n",
    "#     print(f\"Shape of y: {y.shape} {y.dtype}\")\n",
    "#     break\n",
    "\n",
    "n_classes = len(class_names)\n",
    "print(\"n_classes:\", n_classes)"
   ]
  },
  {
   "cell_type": "code",
   "execution_count": 137,
   "id": "89cb1ce8",
   "metadata": {},
   "outputs": [
    {
     "name": "stdout",
     "output_type": "stream",
     "text": [
      "Using cuda device\n",
      "CNN(\n",
      "  (features): Sequential(\n",
      "    (0): Conv2d(1, 32, kernel_size=(3, 3), stride=(1, 1))\n",
      "    (1): ReLU()\n",
      "    (2): BatchNorm2d(32, eps=1e-05, momentum=0.1, affine=True, track_running_stats=True)\n",
      "    (3): Conv2d(32, 32, kernel_size=(3, 3), stride=(1, 1))\n",
      "    (4): ReLU()\n",
      "    (5): BatchNorm2d(32, eps=1e-05, momentum=0.1, affine=True, track_running_stats=True)\n",
      "    (6): Conv2d(32, 32, kernel_size=(5, 5), stride=(1, 1), padding=same)\n",
      "    (7): ReLU()\n",
      "    (8): BatchNorm2d(32, eps=1e-05, momentum=0.1, affine=True, track_running_stats=True)\n",
      "    (9): Dropout(p=0.4, inplace=False)\n",
      "    (10): Conv2d(32, 64, kernel_size=(3, 3), stride=(1, 1))\n",
      "    (11): ReLU()\n",
      "    (12): BatchNorm2d(64, eps=1e-05, momentum=0.1, affine=True, track_running_stats=True)\n",
      "    (13): Conv2d(64, 64, kernel_size=(3, 3), stride=(1, 1))\n",
      "    (14): ReLU()\n",
      "    (15): BatchNorm2d(64, eps=1e-05, momentum=0.1, affine=True, track_running_stats=True)\n",
      "    (16): Conv2d(64, 64, kernel_size=(5, 5), stride=(1, 1), padding=same)\n",
      "    (17): ReLU()\n",
      "    (18): BatchNorm2d(64, eps=1e-05, momentum=0.1, affine=True, track_running_stats=True)\n",
      "  )\n",
      "  (classifier): Sequential(\n",
      "    (0): Dropout(p=0.4, inplace=False)\n",
      "    (1): Linear(in_features=25600, out_features=128, bias=True)\n",
      "    (2): ReLU()\n",
      "    (3): BatchNorm1d(128, eps=1e-05, momentum=0.1, affine=True, track_running_stats=True)\n",
      "    (4): Dropout(p=0.4, inplace=False)\n",
      "    (5): Linear(in_features=128, out_features=69, bias=True)\n",
      "  )\n",
      ")\n"
     ]
    }
   ],
   "source": [
    "device = (\n",
    "    \"cuda\" if torch.cuda.is_available() else \"mps\" if torch.backends.mps.is_available() else \"cpu\"\n",
    ")\n",
    "print(f\"Using {device} device\")\n",
    "\n",
    "\n",
    "class CNN(nn.Module):\n",
    "    def __init__(self):\n",
    "        super().__init__()\n",
    "        self.features = nn.Sequential(\n",
    "            nn.Conv2d(in_channels=1, out_channels=32, kernel_size=3),\n",
    "            nn.ReLU(),\n",
    "            nn.BatchNorm2d(num_features=32),\n",
    "            nn.Conv2d(in_channels=32, out_channels=32, kernel_size=3),\n",
    "            nn.ReLU(),\n",
    "            nn.BatchNorm2d(num_features=32),\n",
    "            nn.Conv2d(in_channels=32, out_channels=32, kernel_size=5, stride=1, padding=\"same\"),\n",
    "            nn.ReLU(),\n",
    "            nn.BatchNorm2d(num_features=32),\n",
    "            nn.Dropout(p=0.4),\n",
    "            nn.Conv2d(in_channels=32, out_channels=64, kernel_size=3),\n",
    "            nn.ReLU(),\n",
    "            nn.BatchNorm2d(num_features=64),\n",
    "            nn.Conv2d(in_channels=64, out_channels=64, kernel_size=3),\n",
    "            nn.ReLU(),\n",
    "            nn.BatchNorm2d(num_features=64),\n",
    "            nn.Conv2d(in_channels=64, out_channels=64, kernel_size=5, stride=1, padding=\"same\"),\n",
    "            nn.ReLU(),\n",
    "            nn.BatchNorm2d(num_features=64),\n",
    "        )\n",
    "        self.classifier = nn.Sequential(\n",
    "            nn.Dropout(p=0.4),\n",
    "            nn.Linear(in_features=64 * 20 * 20, out_features=128),\n",
    "            nn.ReLU(),\n",
    "            nn.BatchNorm1d(num_features=128),\n",
    "            nn.Dropout(p=0.4),\n",
    "            nn.Linear(in_features=128, out_features=n_classes),\n",
    "        )\n",
    "\n",
    "    def forward(self, x):\n",
    "        out = self.features(x)\n",
    "        out = out.view(out.size(0), -1)\n",
    "        out = self.classifier(out)\n",
    "        return out\n",
    "\n",
    "\n",
    "model = CNN().to(device)\n",
    "print(model)"
   ]
  },
  {
   "cell_type": "code",
   "execution_count": 138,
   "id": "70b411ae",
   "metadata": {},
   "outputs": [],
   "source": [
    "loss_fn = nn.CrossEntropyLoss()\n",
    "optimizer = torch.optim.SGD(model.parameters(), lr=1e-1)"
   ]
  },
  {
   "cell_type": "code",
   "execution_count": 139,
   "id": "ffcc675e",
   "metadata": {},
   "outputs": [],
   "source": [
    "def train(dataloader, model, loss_fn, optimizer):\n",
    "    size = len(dataloader.dataset)\n",
    "    model.train()\n",
    "    for batch, (X, y) in enumerate(dataloader):\n",
    "        X, y = X.to(device), y.to(device)\n",
    "\n",
    "        pred = model(X)\n",
    "        loss = loss_fn(pred, y)\n",
    "\n",
    "        optimizer.zero_grad()\n",
    "        loss.backward()\n",
    "        optimizer.step()\n",
    "\n",
    "        if batch % 100 == 0:\n",
    "            loss, current = loss.item(), (batch + 1) * len(X)\n",
    "            print(f\"loss: {loss:>7f}  [{current:>5d}/{size:>5d}]\")"
   ]
  },
  {
   "cell_type": "code",
   "execution_count": 140,
   "id": "e6cb7d3f",
   "metadata": {},
   "outputs": [],
   "source": [
    "def test(dataloader, model, loss_fn):\n",
    "    size = len(dataloader.dataset)\n",
    "    num_batches = len(dataloader)\n",
    "    model.eval()\n",
    "    test_loss, correct = 0, 0\n",
    "    preds = []\n",
    "    with torch.no_grad():\n",
    "        for X, y in dataloader:\n",
    "            X, y = X.to(device), y.to(device)\n",
    "            pred = model(X)\n",
    "            preds += pred.argmax(1).tolist()\n",
    "            test_loss += loss_fn(pred, y).item()\n",
    "            correct += (pred.argmax(1) == y).type(torch.float).sum().item()\n",
    "    test_loss /= num_batches\n",
    "    correct /= size\n",
    "    print(f\"Test Error: \\n Accuracy: {(100*correct):>0.1f}%, Avg loss: {test_loss:>8f} \\n\")\n",
    "    return preds"
   ]
  },
  {
   "cell_type": "code",
   "execution_count": 141,
   "id": "2da2a569",
   "metadata": {
    "scrolled": true
   },
   "outputs": [
    {
     "name": "stdout",
     "output_type": "stream",
     "text": [
      "Epoch 1\n",
      "-------------------------------\n",
      "loss: 4.295769  [   64/759050]\n",
      "loss: 1.329705  [ 6464/759050]\n",
      "loss: 0.820177  [12864/759050]\n",
      "loss: 0.651428  [19264/759050]\n",
      "loss: 0.625501  [25664/759050]\n",
      "loss: 0.564159  [32064/759050]\n",
      "loss: 0.718484  [38464/759050]\n",
      "loss: 0.685400  [44864/759050]\n",
      "loss: 0.743533  [51264/759050]\n",
      "loss: 0.585109  [57664/759050]\n",
      "loss: 0.754125  [64064/759050]\n",
      "loss: 0.607147  [70464/759050]\n",
      "loss: 0.537775  [76864/759050]\n",
      "loss: 0.283028  [83264/759050]\n",
      "loss: 0.311730  [89664/759050]\n",
      "loss: 0.573191  [96064/759050]\n",
      "loss: 0.506694  [102464/759050]\n",
      "loss: 0.665332  [108864/759050]\n",
      "loss: 0.397697  [115264/759050]\n",
      "loss: 0.423536  [121664/759050]\n",
      "loss: 0.559741  [128064/759050]\n",
      "loss: 0.561092  [134464/759050]\n",
      "loss: 0.318000  [140864/759050]\n",
      "loss: 0.349986  [147264/759050]\n",
      "loss: 0.300681  [153664/759050]\n",
      "loss: 0.414593  [160064/759050]\n",
      "loss: 0.782203  [166464/759050]\n",
      "loss: 0.733782  [172864/759050]\n",
      "loss: 0.419943  [179264/759050]\n",
      "loss: 0.318354  [185664/759050]\n",
      "loss: 0.478345  [192064/759050]\n",
      "loss: 0.320536  [198464/759050]\n",
      "loss: 0.553220  [204864/759050]\n",
      "loss: 0.492668  [211264/759050]\n",
      "loss: 0.499318  [217664/759050]\n",
      "loss: 0.459584  [224064/759050]\n",
      "loss: 0.383643  [230464/759050]\n",
      "loss: 0.405749  [236864/759050]\n",
      "loss: 0.257372  [243264/759050]\n",
      "loss: 0.311230  [249664/759050]\n",
      "loss: 0.247090  [256064/759050]\n",
      "loss: 0.507417  [262464/759050]\n",
      "loss: 0.369081  [268864/759050]\n",
      "loss: 0.608968  [275264/759050]\n",
      "loss: 0.571640  [281664/759050]\n",
      "loss: 0.674657  [288064/759050]\n",
      "loss: 0.566748  [294464/759050]\n",
      "loss: 0.331560  [300864/759050]\n",
      "loss: 0.439583  [307264/759050]\n",
      "loss: 0.377298  [313664/759050]\n",
      "loss: 0.405549  [320064/759050]\n",
      "loss: 0.425336  [326464/759050]\n",
      "loss: 0.492549  [332864/759050]\n",
      "loss: 0.326656  [339264/759050]\n",
      "loss: 0.616930  [345664/759050]\n",
      "loss: 0.424551  [352064/759050]\n",
      "loss: 0.539600  [358464/759050]\n",
      "loss: 0.352026  [364864/759050]\n",
      "loss: 0.337535  [371264/759050]\n",
      "loss: 0.432794  [377664/759050]\n",
      "loss: 0.456930  [384064/759050]\n",
      "loss: 0.321515  [390464/759050]\n",
      "loss: 0.335994  [396864/759050]\n",
      "loss: 0.199750  [403264/759050]\n",
      "loss: 0.549813  [409664/759050]\n",
      "loss: 0.330565  [416064/759050]\n",
      "loss: 0.373735  [422464/759050]\n",
      "loss: 0.433909  [428864/759050]\n",
      "loss: 0.545701  [435264/759050]\n",
      "loss: 0.527644  [441664/759050]\n",
      "loss: 0.447388  [448064/759050]\n",
      "loss: 0.542420  [454464/759050]\n",
      "loss: 0.433542  [460864/759050]\n",
      "loss: 0.539218  [467264/759050]\n",
      "loss: 0.351209  [473664/759050]\n",
      "loss: 0.365560  [480064/759050]\n",
      "loss: 0.286083  [486464/759050]\n",
      "loss: 0.448402  [492864/759050]\n",
      "loss: 0.343314  [499264/759050]\n",
      "loss: 0.364450  [505664/759050]\n",
      "loss: 0.173276  [512064/759050]\n",
      "loss: 0.590505  [518464/759050]\n",
      "loss: 0.383905  [524864/759050]\n",
      "loss: 0.547297  [531264/759050]\n",
      "loss: 0.381785  [537664/759050]\n",
      "loss: 0.367724  [544064/759050]\n",
      "loss: 0.343939  [550464/759050]\n",
      "loss: 0.353856  [556864/759050]\n",
      "loss: 0.601089  [563264/759050]\n",
      "loss: 0.279113  [569664/759050]\n",
      "loss: 0.265621  [576064/759050]\n",
      "loss: 0.362774  [582464/759050]\n",
      "loss: 0.321946  [588864/759050]\n",
      "loss: 0.280450  [595264/759050]\n",
      "loss: 0.410007  [601664/759050]\n",
      "loss: 0.294971  [608064/759050]\n",
      "loss: 0.440437  [614464/759050]\n",
      "loss: 0.570916  [620864/759050]\n",
      "loss: 0.442991  [627264/759050]\n",
      "loss: 0.393738  [633664/759050]\n",
      "loss: 0.364823  [640064/759050]\n",
      "loss: 0.371498  [646464/759050]\n",
      "loss: 0.322125  [652864/759050]\n",
      "loss: 0.246474  [659264/759050]\n",
      "loss: 0.559964  [665664/759050]\n",
      "loss: 0.379141  [672064/759050]\n",
      "loss: 0.301488  [678464/759050]\n",
      "loss: 0.620463  [684864/759050]\n",
      "loss: 0.407464  [691264/759050]\n",
      "loss: 0.480623  [697664/759050]\n",
      "loss: 0.330376  [704064/759050]\n",
      "loss: 0.381987  [710464/759050]\n",
      "loss: 0.266394  [716864/759050]\n",
      "loss: 0.347900  [723264/759050]\n",
      "loss: 0.350262  [729664/759050]\n",
      "loss: 0.167117  [736064/759050]\n",
      "loss: 0.319168  [742464/759050]\n",
      "loss: 0.212245  [748864/759050]\n",
      "loss: 0.311499  [755264/759050]\n",
      "Test Error: \n",
      " Accuracy: 86.7%, Avg loss: 0.372476 \n",
      "\n",
      "Done!\n"
     ]
    }
   ],
   "source": [
    "epochs = 1\n",
    "for t in range(epochs):\n",
    "    print(f\"Epoch {t+1}\\n-------------------------------\")\n",
    "    train(train_dataloader, model, loss_fn, optimizer)\n",
    "    test(test_dataloader, model, loss_fn)\n",
    "print(\"Done!\")"
   ]
  },
  {
   "cell_type": "code",
   "execution_count": 142,
   "id": "b7f7b386",
   "metadata": {},
   "outputs": [],
   "source": [
    "torch.save(model.state_dict(), f\"model_{name}.pth\")"
   ]
  },
  {
   "cell_type": "code",
   "execution_count": 143,
   "id": "cc55c4fa",
   "metadata": {},
   "outputs": [],
   "source": [
    "model = CNN()\n",
    "model.load_state_dict(torch.load(f\"model_{name}.pth\"))\n",
    "model = model.to(device)"
   ]
  },
  {
   "cell_type": "code",
   "execution_count": 144,
   "id": "d7b81573",
   "metadata": {},
   "outputs": [
    {
     "name": "stdout",
     "output_type": "stream",
     "text": [
      "Predicted: \"Y\", Actual: \"Y\"\n"
     ]
    },
    {
     "data": {
      "text/plain": [
       "<matplotlib.image.AxesImage at 0x1fbfb32a7f0>"
      ]
     },
     "execution_count": 144,
     "metadata": {},
     "output_type": "execute_result"
    },
    {
     "data": {
      "image/png": "[encoded data removed]",
      "text/plain": [
       "<Figure size 640x480 with 1 Axes>"
      ]
     },
     "metadata": {},
     "output_type": "display_data"
    }
   ],
   "source": [
    "model.eval()\n",
    "idx = np.random.randint(0, len(test_data))\n",
    "x, y = test_data[idx]\n",
    "with torch.no_grad():\n",
    "    x = x.unsqueeze(0)\n",
    "    pred = model(x.to(device))\n",
    "    predicted, actual = class_names[pred[0].argmax(0)], class_names[y]\n",
    "    print(f'Predicted: \"{predicted}\", Actual: \"{actual}\"')\n",
    "plt.imshow(x.reshape(28, 28), cmap=\"gray\")"
   ]
  },
  {
   "cell_type": "code",
   "execution_count": 145,
   "id": "3ef38688",
   "metadata": {},
   "outputs": [
    {
     "name": "stdout",
     "output_type": "stream",
     "text": [
      "Test Error: \n",
      " Accuracy: 86.7%, Avg loss: 0.372541 \n",
      "\n"
     ]
    }
   ],
   "source": [
    "preds = test(test_dataloader, model, loss_fn)"
   ]
  },
  {
   "cell_type": "code",
   "execution_count": 146,
   "id": "fab490ea",
   "metadata": {},
   "outputs": [],
   "source": [
    "# target_class = \"l\"\n",
    "# targets = []\n",
    "# for img, label in test_data:\n",
    "#     label = label.item()\n",
    "#     class_name = class_names[label]\n",
    "#     if class_name == target_class:\n",
    "#         targets.append(img)"
   ]
  },
  {
   "cell_type": "code",
   "execution_count": 147,
   "id": "6433c06e",
   "metadata": {},
   "outputs": [
    {
     "data": {
      "text/plain": [
       "<matplotlib.image.AxesImage at 0x1fbfc20e790>"
      ]
     },
     "execution_count": 147,
     "metadata": {},
     "output_type": "execute_result"
    },
    {
     "data": {
      "image/png": "[encoded data removed]",
      "text/plain": [
       "<Figure size 640x480 with 1 Axes>"
      ]
     },
     "metadata": {},
     "output_type": "display_data"
    }
   ],
   "source": [
    "# idx = np.random.randint(0, len(targets))\n",
    "# plt.imshow(targets[idx].reshape(28, 28), cmap=\"gray\")"
   ]
  },
  {
   "cell_type": "code",
   "execution_count": 148,
   "id": "71985a56",
   "metadata": {},
   "outputs": [
    {
     "name": "stdout",
     "output_type": "stream",
     "text": [
      "{'Z': 2701, 'a': 10033, '6': 34232, '3': 35143, 'M': 9002, 'c': 2854, '5': 31416, '9': 33847, 'l': 15318, '4': 33535, '7': 35754, 'u': 2830, 'T': 9820, 'e': 24631, 't': 18262, 'v': 2910, 'h': 8738, 'W': 4695, 'F': 9182, 'Q': 2605, '2': 34203, 'S': 20764, '8': 33946, 'n': 11418, 'C': 10094, '1': 38374, 'x': 2822, 'I': 11946, 'f': 2561, '0': 34585, 'k': 2491, 'N': 8237, 'p': 2448, 'O': 24983, 'V': 4637, 'j': 1896, 'd': 10177, 'B': 3878, 's': 2699, 'J': 3762, 'K': 2468, 'z': 2725, 'P': 8347, 'b': 5159, 'q': 2994, 'w': 2697, 'E': 4934, 'Y': 4743, 'U': 12602, 'R': 5073, 'G': 2517, 'X': 2771, 'L': 5076, 'y': 2365, 'm': 2645, 'r': 14105, 'D': 4562, 'A': 6407, 'o': 2749, 'H': 3152, 'g': 3687, 'i': 2725, '=': 10445, '+': 20114, '-': 27169, 'times': 2634, 'lt': 379, 'forward_slash': 165, 'gt': 212}\n"
     ]
    }
   ],
   "source": [
    "# TODO: use balanced instead and reduce math symbols samples\n",
    "counts = dict()\n",
    "for img, label in train_data:\n",
    "    class_name = class_names[label.item()]\n",
    "    counts[class_name] = counts.get(class_name, 0) + 1\n",
    "print(counts)"
   ]
  },
  {
   "cell_type": "code",
   "execution_count": null,
   "id": "fb427c62",
   "metadata": {},
   "outputs": [],
   "source": []
  }
 ],
 "metadata": {
  "kernelspec": {
   "display_name": "cmpe295",
   "language": "python",
   "name": "python3"
  },
  "language_info": {
   "codemirror_mode": {
    "name": "ipython",
    "version": 3
   },
   "file_extension": ".py",
   "mimetype": "text/x-python",
   "name": "python",
   "nbconvert_exporter": "python",
   "pygments_lexer": "ipython3",
   "version": "3.9.16"
  }
 },
 "nbformat": 4,
 "nbformat_minor": 5
}
