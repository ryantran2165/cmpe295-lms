{
 "cells": [
  {
   "cell_type": "code",
   "execution_count": 510,
   "id": "0ffa99ea",
   "metadata": {},
   "outputs": [],
   "source": [
    "import torch\n",
    "from torch import nn\n",
    "from torch.utils.data import DataLoader, ConcatDataset, Dataset\n",
    "from torchvision import datasets\n",
    "from torchvision.transforms import Compose, ToTensor, Lambda\n",
    "from torchvision.transforms.functional import rotate, hflip\n",
    "import numpy as np\n",
    "import matplotlib.pyplot as plt\n",
    "import os\n",
    "import cv2\n",
    "import pandas as pd"
   ]
  },
  {
   "cell_type": "code",
   "execution_count": 511,
   "id": "1357000c",
   "metadata": {},
   "outputs": [],
   "source": [
    "class MathSymbolsDataset(Dataset):\n",
    "    def __init__(self, img_labels, transform=None, target_transform=None):\n",
    "        self.img_labels = img_labels\n",
    "        self.transform = transform\n",
    "        self.target_transform = target_transform\n",
    "\n",
    "    def __len__(self):\n",
    "        return len(self.img_labels)\n",
    "\n",
    "    def __getitem__(self, idx):\n",
    "        img_path = self.img_labels.iloc[idx, 0]\n",
    "\n",
    "        im = cv2.imread(img_path)\n",
    "\n",
    "        im = cv2.bitwise_not(im)\n",
    "        im = cv2.cvtColor(im, cv2.COLOR_BGR2GRAY)\n",
    "\n",
    "        #     cnts = cv2.findContours(im, cv2.RETR_EXTERNAL, cv2.CHAIN_APPROX_SIMPLE)\n",
    "        #     cnts = cnts[0] if len(cnts) == 2 else cnts[1]\n",
    "        #     for c in cnts:\n",
    "        #         cv2.drawContours(im, [c], -1, (255,255,255), thickness=2)\n",
    "\n",
    "        kernel = cv2.getStructuringElement(cv2.MORPH_RECT, (4, 4))\n",
    "        im = cv2.dilate(im, kernel, iterations=1)\n",
    "\n",
    "        im = cv2.resize(im, (20, 20))\n",
    "        border = 4\n",
    "        im = cv2.copyMakeBorder(\n",
    "            im, border, border, border, border, cv2.BORDER_CONSTANT, value=(0, 0, 0)\n",
    "        )\n",
    "\n",
    "        image = torch.from_numpy(im.astype(\"float32\")).unsqueeze(0)\n",
    "\n",
    "        label = self.img_labels.iloc[idx, 1]\n",
    "        label = torch.tensor(label).type(torch.LongTensor)\n",
    "        if self.transform:\n",
    "            image = self.transform(image)\n",
    "        if self.target_transform:\n",
    "            label = self.target_transform(label)\n",
    "        return image, label"
   ]
  },
  {
   "cell_type": "code",
   "execution_count": 512,
   "id": "3bc9b784",
   "metadata": {},
   "outputs": [
    {
     "name": "stdout",
     "output_type": "stream",
     "text": [
      "Num math symbols: 13\n"
     ]
    },
    {
     "data": {
      "text/html": [
       "<div>\n",
       "<style scoped>\n",
       "    .dataframe tbody tr th:only-of-type {\n",
       "        vertical-align: middle;\n",
       "    }\n",
       "\n",
       "    .dataframe tbody tr th {\n",
       "        vertical-align: top;\n",
       "    }\n",
       "\n",
       "    .dataframe thead th {\n",
       "        text-align: right;\n",
       "    }\n",
       "</style>\n",
       "<table border=\"1\" class=\"dataframe\">\n",
       "  <thead>\n",
       "    <tr style=\"text-align: right;\">\n",
       "      <th></th>\n",
       "      <th>path</th>\n",
       "      <th>label</th>\n",
       "    </tr>\n",
       "  </thead>\n",
       "  <tbody>\n",
       "    <tr>\n",
       "      <th>0</th>\n",
       "      <td>data/math_symbols/-/-_100005.jpg</td>\n",
       "      <td>62</td>\n",
       "    </tr>\n",
       "    <tr>\n",
       "      <th>1</th>\n",
       "      <td>data/math_symbols/-/-_100007.jpg</td>\n",
       "      <td>62</td>\n",
       "    </tr>\n",
       "    <tr>\n",
       "      <th>2</th>\n",
       "      <td>data/math_symbols/-/-_100009.jpg</td>\n",
       "      <td>62</td>\n",
       "    </tr>\n",
       "    <tr>\n",
       "      <th>3</th>\n",
       "      <td>data/math_symbols/-/-_100015.jpg</td>\n",
       "      <td>62</td>\n",
       "    </tr>\n",
       "    <tr>\n",
       "      <th>4</th>\n",
       "      <td>data/math_symbols/-/-_100021.jpg</td>\n",
       "      <td>62</td>\n",
       "    </tr>\n",
       "    <tr>\n",
       "      <th>...</th>\n",
       "      <td>...</td>\n",
       "      <td>...</td>\n",
       "    </tr>\n",
       "    <tr>\n",
       "      <th>109806</th>\n",
       "      <td>data/math_symbols/times/times_95436.jpg</td>\n",
       "      <td>74</td>\n",
       "    </tr>\n",
       "    <tr>\n",
       "      <th>109807</th>\n",
       "      <td>data/math_symbols/times/times_95489.jpg</td>\n",
       "      <td>74</td>\n",
       "    </tr>\n",
       "    <tr>\n",
       "      <th>109808</th>\n",
       "      <td>data/math_symbols/times/times_9589.jpg</td>\n",
       "      <td>74</td>\n",
       "    </tr>\n",
       "    <tr>\n",
       "      <th>109809</th>\n",
       "      <td>data/math_symbols/times/times_9755.jpg</td>\n",
       "      <td>74</td>\n",
       "    </tr>\n",
       "    <tr>\n",
       "      <th>109810</th>\n",
       "      <td>data/math_symbols/times/times_9881.jpg</td>\n",
       "      <td>74</td>\n",
       "    </tr>\n",
       "  </tbody>\n",
       "</table>\n",
       "<p>109811 rows × 2 columns</p>\n",
       "</div>"
      ],
      "text/plain": [
       "                                           path  label\n",
       "0              data/math_symbols/-/-_100005.jpg     62\n",
       "1              data/math_symbols/-/-_100007.jpg     62\n",
       "2              data/math_symbols/-/-_100009.jpg     62\n",
       "3              data/math_symbols/-/-_100015.jpg     62\n",
       "4              data/math_symbols/-/-_100021.jpg     62\n",
       "...                                         ...    ...\n",
       "109806  data/math_symbols/times/times_95436.jpg     74\n",
       "109807  data/math_symbols/times/times_95489.jpg     74\n",
       "109808   data/math_symbols/times/times_9589.jpg     74\n",
       "109809   data/math_symbols/times/times_9755.jpg     74\n",
       "109810   data/math_symbols/times/times_9881.jpg     74\n",
       "\n",
       "[109811 rows x 2 columns]"
      ]
     },
     "metadata": {},
     "output_type": "display_data"
    },
    {
     "name": "stdout",
     "output_type": "stream",
     "text": [
      "<class 'pandas.core.frame.DataFrame'>\n",
      "RangeIndex: 109811 entries, 0 to 109810\n",
      "Data columns (total 2 columns):\n",
      " #   Column  Non-Null Count   Dtype \n",
      "---  ------  --------------   ----- \n",
      " 0   path    109811 non-null  object\n",
      " 1   label   109811 non-null  int32 \n",
      "dtypes: int32(1), object(1)\n",
      "memory usage: 1.3+ MB\n"
     ]
    },
    {
     "data": {
      "text/plain": [
       "None"
      ]
     },
     "metadata": {},
     "output_type": "display_data"
    },
    {
     "name": "stdout",
     "output_type": "stream",
     "text": [
      "Math symbols dataset: 109811 torch.Size([1, 28, 28])\n"
     ]
    }
   ],
   "source": [
    "# name = \"emnistbyclass\"\n",
    "# name = \"mnist\"\n",
    "# name = \"mathsymbols\"\n",
    "# name = \"mnist_mathsymbols\"\n",
    "name = \"emnistbyclass_mathsymbols\"\n",
    "\n",
    "# EMNIST dataset\n",
    "split = \"byclass\"\n",
    "# split = 'bymerge'\n",
    "# split = 'balanced'\n",
    "# split = 'letters'\n",
    "# split = 'digits'\n",
    "# split = \"mnist\"\n",
    "emnist_train_data = datasets.EMNIST(\n",
    "    root=\"data\",\n",
    "    split=split,\n",
    "    train=True,\n",
    "    download=True,\n",
    "    transform=Compose([lambda img: rotate(img, -90), lambda img: hflip(img), ToTensor()]),\n",
    "    target_transform=Lambda(lambda y: torch.tensor(y)),\n",
    ")\n",
    "emnist_test_data = datasets.EMNIST(\n",
    "    root=\"data\",\n",
    "    split=split,\n",
    "    train=False,\n",
    "    download=True,\n",
    "    transform=Compose([lambda img: rotate(img, -90), lambda img: hflip(img), ToTensor()]),\n",
    "    target_transform=Lambda(lambda y: torch.tensor(y)),\n",
    ")\n",
    "\n",
    "# Math Symbols dataset\n",
    "math_symbols_root = \"data/math_symbols\"\n",
    "math_symbols = [\"-\", \"!\", \"(\", \")\", \",\", \"[\", \"]\", \"+\", \"=\", \"forward_slash\", \"gt\", \"lt\", \"times\"]\n",
    "print(\"Num math symbols:\", len(math_symbols))\n",
    "data = []\n",
    "for i, symbol in enumerate(math_symbols):\n",
    "    root = f\"{math_symbols_root}/{symbol}\"\n",
    "    files = os.listdir(root)\n",
    "    for file in files:\n",
    "        path = f\"{root}/{file}\"\n",
    "        label = i\n",
    "        data.append([path, label])\n",
    "data = np.array(data)\n",
    "img_labels = pd.DataFrame(columns=[\"path\", \"label\"])\n",
    "img_labels[\"path\"] = data[:, 0]\n",
    "img_labels[\"label\"] = data[:, 1].astype(int)\n",
    "if name == \"mnist_mathsymbols\":\n",
    "    img_labels[\"label\"] = img_labels[\"label\"] + 10\n",
    "elif \"mnist\" in name:\n",
    "    img_labels[\"label\"] = img_labels[\"label\"] + 62\n",
    "display(img_labels)\n",
    "display(img_labels.info())\n",
    "math_symbols_dataset = MathSymbolsDataset(img_labels)\n",
    "print(\"Math symbols dataset:\", len(math_symbols_dataset), math_symbols_dataset[0][0].size())\n",
    "\n",
    "math_symbols_train_size = int(0.8 * len(math_symbols_dataset))\n",
    "math_symbols_test_size = len(math_symbols_dataset) - math_symbols_train_size\n",
    "math_symbols_train_data, math_symbols_test_data = torch.utils.data.random_split(\n",
    "    math_symbols_dataset, [math_symbols_train_size, math_symbols_test_size]\n",
    ")"
   ]
  },
  {
   "cell_type": "code",
   "execution_count": 513,
   "id": "ed466f4b",
   "metadata": {},
   "outputs": [],
   "source": [
    "# total_samples = 0\n",
    "# for symbol in math_symbols:\n",
    "#     path = f'{math_symbols_root}/{symbol}'\n",
    "#     files = os.listdir(path)\n",
    "#     total_samples += len(files)\n",
    "#     idx = np.random.randint(0, len(files))\n",
    "#     file = f'{path}/{files[idx]}'\n",
    "\n",
    "#     im = cv2.imread(file)\n",
    "\n",
    "#     im = cv2.bitwise_not(im)\n",
    "#     im = cv2.cvtColor(im, cv2.COLOR_BGR2GRAY)\n",
    "\n",
    "# #     cnts = cv2.findContours(im, cv2.RETR_EXTERNAL, cv2.CHAIN_APPROX_SIMPLE)\n",
    "# #     cnts = cnts[0] if len(cnts) == 2 else cnts[1]\n",
    "# #     for c in cnts:\n",
    "# #         cv2.drawContours(im, [c], -1, (255,255,255), thickness=2)\n",
    "\n",
    "#     kernel = cv2.getStructuringElement(cv2.MORPH_RECT, (4,4))\n",
    "#     im = cv2.dilate(im, kernel, iterations=1)\n",
    "\n",
    "#     im = cv2.resize(im, (20, 20))\n",
    "#     border = 4\n",
    "#     im = cv2.copyMakeBorder(im, border, border, border, border, cv2.BORDER_CONSTANT, value=(0,0,0))\n",
    "#     print(im.shape)\n",
    "#     plt.imshow(im, cmap=\"gray\")\n",
    "#     print(file)\n",
    "\n",
    "# print('total samples:', total_samples)"
   ]
  },
  {
   "cell_type": "code",
   "execution_count": 514,
   "id": "14b1a0f5",
   "metadata": {},
   "outputs": [],
   "source": [
    "if \"mnist\" in name and \"symbols\" not in name:\n",
    "    train_data = emnist_train_data\n",
    "    test_data = emnist_test_data\n",
    "elif \"mnist\" not in name and \"symbols\" in name:\n",
    "    train_data = math_symbols_train_data\n",
    "    test_data = math_symbols_test_data\n",
    "else:\n",
    "    train_data = ConcatDataset([emnist_train_data, math_symbols_train_data])\n",
    "    test_data = ConcatDataset([emnist_test_data, math_symbols_test_data])"
   ]
  },
  {
   "cell_type": "code",
   "execution_count": 515,
   "id": "f0f9e79b",
   "metadata": {},
   "outputs": [
    {
     "name": "stdout",
     "output_type": "stream",
     "text": [
      "75\n",
      "['0', '1', '2', '3', '4', '5', '6', '7', '8', '9', 'A', 'B', 'C', 'D', 'E', 'F', 'G', 'H', 'I', 'J', 'K', 'L', 'M', 'N', 'O', 'P', 'Q', 'R', 'S', 'T', 'U', 'V', 'W', 'X', 'Y', 'Z', 'a', 'b', 'c', 'd', 'e', 'f', 'g', 'h', 'i', 'j', 'k', 'l', 'm', 'n', 'o', 'p', 'q', 'r', 's', 't', 'u', 'v', 'w', 'x', 'y', 'z', '-', '!', '(', ')', ',', '[', ']', '+', '=', 'forward_slash', 'gt', 'lt', 'times']\n"
     ]
    }
   ],
   "source": [
    "if name == \"mnist_mathsymbols\":\n",
    "    class_names = [str(num) for num in range(10)] + math_symbols\n",
    "elif \"mnist\" in name and \"symbols\" not in name:\n",
    "    class_names = (\n",
    "        [str(num) for num in range(10)]\n",
    "        + [chr(capital) for capital in range(ord(\"A\"), ord(\"Z\") + 1)]\n",
    "        + [chr(lower) for lower in range(ord(\"a\"), ord(\"z\") + 1)]\n",
    "    )\n",
    "elif \"mnist\" not in name and \"symbols\" in name:\n",
    "    class_names = math_symbols\n",
    "else:\n",
    "    class_names = (\n",
    "        [str(num) for num in range(10)]\n",
    "        + [chr(capital) for capital in range(ord(\"A\"), ord(\"Z\") + 1)]\n",
    "        + [chr(lower) for lower in range(ord(\"a\"), ord(\"z\") + 1)]\n",
    "        + math_symbols\n",
    "    )\n",
    "print(len(class_names))\n",
    "print(class_names)"
   ]
  },
  {
   "cell_type": "code",
   "execution_count": 516,
   "id": "3c399c81",
   "metadata": {},
   "outputs": [
    {
     "name": "stdout",
     "output_type": "stream",
     "text": [
      "Label: L\n"
     ]
    },
    {
     "data": {
      "image/png": "[encoded data removed]",
      "text/plain": [
       "<Figure size 640x480 with 1 Axes>"
      ]
     },
     "metadata": {},
     "output_type": "display_data"
    }
   ],
   "source": [
    "idx = np.random.randint(0, len(train_data))\n",
    "sample_img, sample_label = train_data[idx]\n",
    "plt.imshow(sample_img.reshape(28, 28), cmap=\"gray\")\n",
    "print(\"Label:\", class_names[sample_label])"
   ]
  },
  {
   "cell_type": "code",
   "execution_count": 517,
   "id": "e956f1d4",
   "metadata": {},
   "outputs": [
    {
     "name": "stdout",
     "output_type": "stream",
     "text": [
      "n_classes: 75\n"
     ]
    }
   ],
   "source": [
    "batch_size = 64\n",
    "\n",
    "train_dataloader = DataLoader(train_data, batch_size=batch_size, shuffle=True, num_workers=0)\n",
    "test_dataloader = DataLoader(test_data, batch_size=batch_size, shuffle=True, num_workers=0)\n",
    "\n",
    "# for X, y in test_dataloader:\n",
    "#     print(f\"Shape of X [N, C, H, W]: {X.shape}\")\n",
    "#     print(f\"Shape of y: {y.shape} {y.dtype}\")\n",
    "#     break\n",
    "\n",
    "n_classes = len(class_names)\n",
    "print(\"n_classes:\", n_classes)"
   ]
  },
  {
   "cell_type": "code",
   "execution_count": 518,
   "id": "89cb1ce8",
   "metadata": {},
   "outputs": [
    {
     "name": "stdout",
     "output_type": "stream",
     "text": [
      "Using cuda device\n",
      "CNN(\n",
      "  (features): Sequential(\n",
      "    (0): Conv2d(1, 32, kernel_size=(3, 3), stride=(1, 1))\n",
      "    (1): ReLU()\n",
      "    (2): BatchNorm2d(32, eps=1e-05, momentum=0.1, affine=True, track_running_stats=True)\n",
      "    (3): Conv2d(32, 32, kernel_size=(3, 3), stride=(1, 1))\n",
      "    (4): ReLU()\n",
      "    (5): BatchNorm2d(32, eps=1e-05, momentum=0.1, affine=True, track_running_stats=True)\n",
      "    (6): Conv2d(32, 32, kernel_size=(5, 5), stride=(1, 1), padding=same)\n",
      "    (7): ReLU()\n",
      "    (8): BatchNorm2d(32, eps=1e-05, momentum=0.1, affine=True, track_running_stats=True)\n",
      "    (9): Dropout(p=0.4, inplace=False)\n",
      "    (10): Conv2d(32, 64, kernel_size=(3, 3), stride=(1, 1))\n",
      "    (11): ReLU()\n",
      "    (12): BatchNorm2d(64, eps=1e-05, momentum=0.1, affine=True, track_running_stats=True)\n",
      "    (13): Conv2d(64, 64, kernel_size=(3, 3), stride=(1, 1))\n",
      "    (14): ReLU()\n",
      "    (15): BatchNorm2d(64, eps=1e-05, momentum=0.1, affine=True, track_running_stats=True)\n",
      "    (16): Conv2d(64, 64, kernel_size=(5, 5), stride=(1, 1), padding=same)\n",
      "    (17): ReLU()\n",
      "    (18): BatchNorm2d(64, eps=1e-05, momentum=0.1, affine=True, track_running_stats=True)\n",
      "  )\n",
      "  (classifier): Sequential(\n",
      "    (0): Dropout(p=0.4, inplace=False)\n",
      "    (1): Linear(in_features=25600, out_features=128, bias=True)\n",
      "    (2): ReLU()\n",
      "    (3): BatchNorm1d(128, eps=1e-05, momentum=0.1, affine=True, track_running_stats=True)\n",
      "    (4): Dropout(p=0.4, inplace=False)\n",
      "    (5): Linear(in_features=128, out_features=75, bias=True)\n",
      "  )\n",
      ")\n"
     ]
    }
   ],
   "source": [
    "device = (\n",
    "    \"cuda\" if torch.cuda.is_available() else \"mps\" if torch.backends.mps.is_available() else \"cpu\"\n",
    ")\n",
    "print(f\"Using {device} device\")\n",
    "\n",
    "\n",
    "class CNN(nn.Module):\n",
    "    def __init__(self):\n",
    "        super().__init__()\n",
    "        self.features = nn.Sequential(\n",
    "            nn.Conv2d(in_channels=1, out_channels=32, kernel_size=3),\n",
    "            nn.ReLU(),\n",
    "            nn.BatchNorm2d(num_features=32),\n",
    "            nn.Conv2d(in_channels=32, out_channels=32, kernel_size=3),\n",
    "            nn.ReLU(),\n",
    "            nn.BatchNorm2d(num_features=32),\n",
    "            nn.Conv2d(in_channels=32, out_channels=32, kernel_size=5, stride=1, padding=\"same\"),\n",
    "            nn.ReLU(),\n",
    "            nn.BatchNorm2d(num_features=32),\n",
    "            nn.Dropout(p=0.4),\n",
    "            nn.Conv2d(in_channels=32, out_channels=64, kernel_size=3),\n",
    "            nn.ReLU(),\n",
    "            nn.BatchNorm2d(num_features=64),\n",
    "            nn.Conv2d(in_channels=64, out_channels=64, kernel_size=3),\n",
    "            nn.ReLU(),\n",
    "            nn.BatchNorm2d(num_features=64),\n",
    "            nn.Conv2d(in_channels=64, out_channels=64, kernel_size=5, stride=1, padding=\"same\"),\n",
    "            nn.ReLU(),\n",
    "            nn.BatchNorm2d(num_features=64),\n",
    "        )\n",
    "        self.classifier = nn.Sequential(\n",
    "            nn.Dropout(p=0.4),\n",
    "            nn.Linear(in_features=64 * 20 * 20, out_features=128),\n",
    "            nn.ReLU(),\n",
    "            nn.BatchNorm1d(num_features=128),\n",
    "            nn.Dropout(p=0.4),\n",
    "            nn.Linear(in_features=128, out_features=n_classes),\n",
    "        )\n",
    "\n",
    "    def forward(self, x):\n",
    "        out = self.features(x)\n",
    "        out = out.view(out.size(0), -1)\n",
    "        out = self.classifier(out)\n",
    "        return out\n",
    "\n",
    "\n",
    "model = CNN().to(device)\n",
    "print(model)"
   ]
  },
  {
   "cell_type": "code",
   "execution_count": 519,
   "id": "70b411ae",
   "metadata": {},
   "outputs": [],
   "source": [
    "loss_fn = nn.CrossEntropyLoss()\n",
    "optimizer = torch.optim.SGD(model.parameters(), lr=1e-1)"
   ]
  },
  {
   "cell_type": "code",
   "execution_count": 520,
   "id": "ffcc675e",
   "metadata": {},
   "outputs": [],
   "source": [
    "def train(dataloader, model, loss_fn, optimizer):\n",
    "    size = len(dataloader.dataset)\n",
    "    model.train()\n",
    "    for batch, (X, y) in enumerate(dataloader):\n",
    "        X, y = X.to(device), y.to(device)\n",
    "\n",
    "        pred = model(X)\n",
    "        loss = loss_fn(pred, y)\n",
    "\n",
    "        optimizer.zero_grad()\n",
    "        loss.backward()\n",
    "        optimizer.step()\n",
    "\n",
    "        if batch % 100 == 0:\n",
    "            loss, current = loss.item(), (batch + 1) * len(X)\n",
    "            print(f\"loss: {loss:>7f}  [{current:>5d}/{size:>5d}]\")"
   ]
  },
  {
   "cell_type": "code",
   "execution_count": 521,
   "id": "e6cb7d3f",
   "metadata": {},
   "outputs": [],
   "source": [
    "def test(dataloader, model, loss_fn):\n",
    "    size = len(dataloader.dataset)\n",
    "    num_batches = len(dataloader)\n",
    "    model.eval()\n",
    "    test_loss, correct = 0, 0\n",
    "    preds = []\n",
    "    with torch.no_grad():\n",
    "        for X, y in dataloader:\n",
    "            X, y = X.to(device), y.to(device)\n",
    "            pred = model(X)\n",
    "            preds += pred.argmax(1).tolist()\n",
    "            test_loss += loss_fn(pred, y).item()\n",
    "            correct += (pred.argmax(1) == y).type(torch.float).sum().item()\n",
    "    test_loss /= num_batches\n",
    "    correct /= size\n",
    "    print(f\"Test Error: \\n Accuracy: {(100*correct):>0.1f}%, Avg loss: {test_loss:>8f} \\n\")\n",
    "    return preds"
   ]
  },
  {
   "cell_type": "code",
   "execution_count": 522,
   "id": "2da2a569",
   "metadata": {
    "scrolled": true
   },
   "outputs": [
    {
     "name": "stdout",
     "output_type": "stream",
     "text": [
      "Epoch 1\n",
      "-------------------------------\n",
      "loss: 4.582236  [   64/785780]\n",
      "loss: 1.344387  [ 6464/785780]\n",
      "loss: 0.924367  [12864/785780]\n",
      "loss: 0.890122  [19264/785780]\n",
      "loss: 0.765667  [25664/785780]\n",
      "loss: 0.668570  [32064/785780]\n",
      "loss: 0.932734  [38464/785780]\n",
      "loss: 0.678241  [44864/785780]\n",
      "loss: 0.658680  [51264/785780]\n",
      "loss: 0.718621  [57664/785780]\n",
      "loss: 0.646751  [64064/785780]\n",
      "loss: 0.509588  [70464/785780]\n",
      "loss: 0.708094  [76864/785780]\n",
      "loss: 0.579620  [83264/785780]\n",
      "loss: 0.646760  [89664/785780]\n",
      "loss: 0.568232  [96064/785780]\n",
      "loss: 0.398558  [102464/785780]\n",
      "loss: 0.575463  [108864/785780]\n",
      "loss: 0.419699  [115264/785780]\n",
      "loss: 0.721029  [121664/785780]\n",
      "loss: 0.553227  [128064/785780]\n",
      "loss: 0.420183  [134464/785780]\n",
      "loss: 0.359552  [140864/785780]\n",
      "loss: 0.609379  [147264/785780]\n",
      "loss: 0.362872  [153664/785780]\n",
      "loss: 0.647994  [160064/785780]\n",
      "loss: 0.402719  [166464/785780]\n",
      "loss: 0.452747  [172864/785780]\n",
      "loss: 0.618336  [179264/785780]\n",
      "loss: 0.446103  [185664/785780]\n",
      "loss: 0.350634  [192064/785780]\n",
      "loss: 0.331475  [198464/785780]\n",
      "loss: 0.540497  [204864/785780]\n",
      "loss: 0.473022  [211264/785780]\n",
      "loss: 0.502349  [217664/785780]\n",
      "loss: 0.407796  [224064/785780]\n",
      "loss: 0.478038  [230464/785780]\n",
      "loss: 0.472595  [236864/785780]\n",
      "loss: 0.366381  [243264/785780]\n",
      "loss: 0.680749  [249664/785780]\n",
      "loss: 0.494725  [256064/785780]\n",
      "loss: 0.320420  [262464/785780]\n",
      "loss: 0.382050  [268864/785780]\n",
      "loss: 0.611044  [275264/785780]\n",
      "loss: 0.481741  [281664/785780]\n",
      "loss: 0.520979  [288064/785780]\n",
      "loss: 0.502601  [294464/785780]\n",
      "loss: 0.327800  [300864/785780]\n",
      "loss: 0.311590  [307264/785780]\n",
      "loss: 0.702439  [313664/785780]\n",
      "loss: 0.330328  [320064/785780]\n",
      "loss: 0.600559  [326464/785780]\n",
      "loss: 0.353230  [332864/785780]\n",
      "loss: 0.581154  [339264/785780]\n",
      "loss: 0.355764  [345664/785780]\n",
      "loss: 0.453548  [352064/785780]\n",
      "loss: 0.310662  [358464/785780]\n",
      "loss: 0.364386  [364864/785780]\n",
      "loss: 0.233278  [371264/785780]\n",
      "loss: 0.281524  [377664/785780]\n",
      "loss: 0.321462  [384064/785780]\n",
      "loss: 0.512843  [390464/785780]\n",
      "loss: 0.474310  [396864/785780]\n",
      "loss: 0.222438  [403264/785780]\n",
      "loss: 0.580996  [409664/785780]\n",
      "loss: 0.442345  [416064/785780]\n",
      "loss: 0.324873  [422464/785780]\n",
      "loss: 0.490487  [428864/785780]\n",
      "loss: 0.388329  [435264/785780]\n",
      "loss: 0.533215  [441664/785780]\n",
      "loss: 0.338572  [448064/785780]\n",
      "loss: 0.459577  [454464/785780]\n",
      "loss: 0.503070  [460864/785780]\n",
      "loss: 0.567372  [467264/785780]\n",
      "loss: 0.412862  [473664/785780]\n",
      "loss: 0.316473  [480064/785780]\n",
      "loss: 0.389432  [486464/785780]\n",
      "loss: 0.354820  [492864/785780]\n",
      "loss: 0.314712  [499264/785780]\n",
      "loss: 0.255755  [505664/785780]\n",
      "loss: 0.630343  [512064/785780]\n",
      "loss: 0.670591  [518464/785780]\n",
      "loss: 0.238679  [524864/785780]\n",
      "loss: 0.428686  [531264/785780]\n",
      "loss: 0.504459  [537664/785780]\n",
      "loss: 0.330809  [544064/785780]\n",
      "loss: 0.533257  [550464/785780]\n",
      "loss: 0.486705  [556864/785780]\n",
      "loss: 0.453618  [563264/785780]\n",
      "loss: 0.413401  [569664/785780]\n",
      "loss: 0.391347  [576064/785780]\n",
      "loss: 0.409979  [582464/785780]\n",
      "loss: 0.435565  [588864/785780]\n",
      "loss: 0.383377  [595264/785780]\n",
      "loss: 0.265167  [601664/785780]\n",
      "loss: 0.325137  [608064/785780]\n",
      "loss: 0.386748  [614464/785780]\n",
      "loss: 0.403659  [620864/785780]\n",
      "loss: 0.466479  [627264/785780]\n",
      "loss: 0.409623  [633664/785780]\n",
      "loss: 0.264009  [640064/785780]\n",
      "loss: 0.222244  [646464/785780]\n",
      "loss: 0.378185  [652864/785780]\n",
      "loss: 0.273006  [659264/785780]\n",
      "loss: 0.465901  [665664/785780]\n",
      "loss: 0.470232  [672064/785780]\n",
      "loss: 0.273593  [678464/785780]\n",
      "loss: 0.322353  [684864/785780]\n",
      "loss: 0.481257  [691264/785780]\n",
      "loss: 0.299643  [697664/785780]\n",
      "loss: 0.545135  [704064/785780]\n",
      "loss: 0.298741  [710464/785780]\n",
      "loss: 0.408390  [716864/785780]\n",
      "loss: 0.521497  [723264/785780]\n",
      "loss: 0.226144  [729664/785780]\n",
      "loss: 0.357822  [736064/785780]\n",
      "loss: 0.377461  [742464/785780]\n",
      "loss: 0.345506  [748864/785780]\n",
      "loss: 0.387355  [755264/785780]\n",
      "loss: 0.592317  [761664/785780]\n",
      "loss: 0.365669  [768064/785780]\n",
      "loss: 0.203194  [774464/785780]\n",
      "loss: 0.408384  [780864/785780]\n",
      "Test Error: \n",
      " Accuracy: 88.1%, Avg loss: 0.325295 \n",
      "\n",
      "Done!\n"
     ]
    }
   ],
   "source": [
    "epochs = 1\n",
    "for t in range(epochs):\n",
    "    print(f\"Epoch {t+1}\\n-------------------------------\")\n",
    "    train(train_dataloader, model, loss_fn, optimizer)\n",
    "    test(test_dataloader, model, loss_fn)\n",
    "print(\"Done!\")"
   ]
  },
  {
   "cell_type": "code",
   "execution_count": 523,
   "id": "b7f7b386",
   "metadata": {},
   "outputs": [],
   "source": [
    "torch.save(model.state_dict(), f\"model_{name}.pth\")"
   ]
  },
  {
   "cell_type": "code",
   "execution_count": 524,
   "id": "cc55c4fa",
   "metadata": {},
   "outputs": [],
   "source": [
    "model = CNN()\n",
    "model.load_state_dict(torch.load(f\"model_{name}.pth\"))\n",
    "model = model.to(device)"
   ]
  },
  {
   "cell_type": "code",
   "execution_count": 574,
   "id": "d7b81573",
   "metadata": {},
   "outputs": [
    {
     "name": "stdout",
     "output_type": "stream",
     "text": [
      "Predicted: \"F\", Actual: \"F\"\n"
     ]
    },
    {
     "data": {
      "text/plain": [
       "<matplotlib.image.AxesImage at 0x1ec63ff9c70>"
      ]
     },
     "execution_count": 574,
     "metadata": {},
     "output_type": "execute_result"
    },
    {
     "data": {
      "image/png": "[encoded data removed]",
      "text/plain": [
       "<Figure size 640x480 with 1 Axes>"
      ]
     },
     "metadata": {},
     "output_type": "display_data"
    }
   ],
   "source": [
    "model.eval()\n",
    "idx = np.random.randint(0, len(test_data))\n",
    "x, y = test_data[idx]\n",
    "with torch.no_grad():\n",
    "    x = x.unsqueeze(0)\n",
    "    pred = model(x.to(device))\n",
    "    predicted, actual = class_names[pred[0].argmax(0)], class_names[y]\n",
    "    print(f'Predicted: \"{predicted}\", Actual: \"{actual}\"')\n",
    "plt.imshow(x.reshape(28, 28), cmap=\"gray\")"
   ]
  },
  {
   "cell_type": "code",
   "execution_count": 526,
   "id": "3ef38688",
   "metadata": {},
   "outputs": [
    {
     "name": "stdout",
     "output_type": "stream",
     "text": [
      "Test Error: \n",
      " Accuracy: 88.1%, Avg loss: 0.325331 \n",
      "\n"
     ]
    }
   ],
   "source": [
    "preds = test(test_dataloader, model, loss_fn)"
   ]
  },
  {
   "cell_type": "code",
   "execution_count": null,
   "id": "fab490ea",
   "metadata": {},
   "outputs": [],
   "source": []
  }
 ],
 "metadata": {
  "kernelspec": {
   "display_name": "cmpe295",
   "language": "python",
   "name": "cmpe295"
  },
  "language_info": {
   "codemirror_mode": {
    "name": "ipython",
    "version": 3
   },
   "file_extension": ".py",
   "mimetype": "text/x-python",
   "name": "python",
   "nbconvert_exporter": "python",
   "pygments_lexer": "ipython3",
   "version": "3.9.16"
  }
 },
 "nbformat": 4,
 "nbformat_minor": 5
}
